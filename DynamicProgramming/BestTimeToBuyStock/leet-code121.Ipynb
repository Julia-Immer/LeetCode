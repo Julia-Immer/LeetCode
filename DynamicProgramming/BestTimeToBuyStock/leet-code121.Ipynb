{
 "cells": [
  {
   "cell_type": "markdown",
   "metadata": {},
   "source": [
    "# Problem\n",
    "\n",
    "**LeetCode 121**\n",
    "\n",
    "You are given an array prices where prices[i] is the price of a given stock on the ith day.\n",
    "\n",
    "You want to maximize your profit by choosing a single day to buy one stock and choosing a different day in the future to sell that stock.\n",
    "\n",
    "Return the maximum profit you can achieve from this transaction. If you cannot achieve any profit, return 0.\n",
    "\n",
    "Example 1:\n",
    "\n",
    "Input: prices = [7,1,5,3,6,4]\n",
    "Output: 5\n",
    "Explanation: Buy on day 2 (price = 1) and sell on day 5 (price = 6), profit = 6-1 = 5.\n",
    "Note that buying on day 2 and selling on day 1 is not allowed because you must buy before you sell.\n",
    "\n",
    "Example 2:\n",
    "\n",
    "Input: prices = [7,6,4,3,1]\n",
    "Output: 0\n",
    "Explanation: In this case, no transactions are done and the max profit = 0.\n",
    "\n",
    "\n",
    "Constraints:\n",
    "\n",
    "    1 <= prices.length <= 105\n",
    "    0 <= prices[i] <= 104\n",
    "\n",
    "\n",
    "## Brute Force Solution\n",
    "\n",
    "I first drew a diagram of the possible sales in order to understand the structure of the problem.\n",
    "\n",
    "![All possible buys and sells for a list of 4 prices](sale-options-diagram.jpeg)\n",
    "\n",
    "Let's say we have $n$ prices in our $prices$ list.  The number of possible sales from position zero is $n-1$ since we are trying to sell on a later date.  As we walk through the days, the number of possible stock sales decreases by 1.\n",
    "\n",
    "Brute Force Pseudocode:\n",
    "\n",
    "    prices = [a, b, c, d] // letters represent values\n",
    "    solution = 0\n",
    "\n",
    "    while (i = 0; i < n; i++) :\n",
    "        curr_max = 0\n",
    "\n",
    "        for(k = i + 1; k <= n; k++) :\n",
    "            curr_max = max(prices[k] - prices[i], curr_max) // compare profit of current sale to max so far\n",
    "\n",
    "        solution = max(curr_max, solution)\n",
    "\n",
    "    return solution\n",
    "\n",
    "This solution implicityly returns 0 if prices is only one price long.  That is the base case for buying and selling on the same day.\n",
    "\n",
    "The runtime of this nested solution is $\\theta(n^2)$.  Even though not all possible combinations are explored, choosing only the ones after the current day, $\\theta((n-1)+(n-2)+...+(n-n-1))$, this is still polynomial time."
   ]
  },
  {
   "cell_type": "code",
   "execution_count": 1,
   "metadata": {},
   "outputs": [],
   "source": [
    "def maxProfitBruteForce(prices) :\n",
    "    solution = 0\n",
    "\n",
    "    for i in range(len(prices)):\n",
    "        curr_max = 0\n",
    "        k = i + 1 # selling price index\n",
    "\n",
    "        while k < len(prices) :\n",
    "            curr_max = max(prices[k] - prices[i], curr_max)\n",
    "            k += 1\n",
    "        \n",
    "        solution = max(curr_max, solution)\n",
    "\n",
    "    return solution"
   ]
  },
  {
   "cell_type": "code",
   "execution_count": 3,
   "metadata": {},
   "outputs": [],
   "source": [
    "# Test cases\n",
    "prices = [7,1,5,3,6,4]\n",
    "expected_output = 5\n",
    "\n",
    "assert maxProfitBruteForce(prices) == expected_output"
   ]
  },
  {
   "cell_type": "markdown",
   "metadata": {},
   "source": [
    "# Rolling Window Solution\n",
    "\n",
    "In order to trim our solution down so it does not require us to explore every possible sale, we can use a rolling window to comb through the prices just once.  This takes the runtime down from the above $\\theta(n^2)$ to  $\\theta(n)$."
   ]
  },
  {
   "cell_type": "code",
   "execution_count": 12,
   "metadata": {},
   "outputs": [],
   "source": [
    "def maxProfit(prices):\n",
    "    min_price = prices[0]\n",
    "    profit = 0\n",
    "\n",
    "    for i in range(len(prices)) :\n",
    "        profit = max(profit, prices[i] - min_price)\n",
    "        min_price = min(min_price, prices[i])\n",
    "\n",
    "    return profit\n"
   ]
  },
  {
   "cell_type": "code",
   "execution_count": 13,
   "metadata": {},
   "outputs": [],
   "source": [
    "# Test cases\n",
    "prices = [7,1,5,3,6,4]\n",
    "expected_output = 5\n",
    "\n",
    "assert maxProfit(prices) == expected_output"
   ]
  }
 ],
 "metadata": {
  "kernelspec": {
   "display_name": "Python 3.8.9 64-bit",
   "language": "python",
   "name": "python3"
  },
  "language_info": {
   "codemirror_mode": {
    "name": "ipython",
    "version": 3
   },
   "file_extension": ".py",
   "mimetype": "text/x-python",
   "name": "python",
   "nbconvert_exporter": "python",
   "pygments_lexer": "ipython3",
   "version": "3.8.9"
  },
  "orig_nbformat": 4,
  "vscode": {
   "interpreter": {
    "hash": "31f2aee4e71d21fbe5cf8b01ff0e069b9275f58929596ceb00d14d90e3e16cd6"
   }
  }
 },
 "nbformat": 4,
 "nbformat_minor": 2
}
